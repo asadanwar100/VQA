{
 "cells": [
  {
   "cell_type": "code",
   "execution_count": 2,
   "metadata": {},
   "outputs": [],
   "source": [
    "from nltk.corpus import wordnet as wn"
   ]
  },
  {
   "cell_type": "code",
   "execution_count": 41,
   "metadata": {},
   "outputs": [
    {
     "name": "stdout",
     "output_type": "stream",
     "text": [
      "a man plants seedling in a bed which also has some very broad-leafed plants\n",
      "A man dressed in a black hat, black logo T shirt, gray shorts and red shoes performs jumping stunts on a low tight rope in a park-like area.\n",
      "A young male skateboarder shows off his skill on outdoor steps.\n",
      "Several fish swim underwater as a hand reaches out.\n",
      "A woman in black and white pants exercises an infant laying in front of her.\n"
     ]
    }
   ],
   "source": [
    "#Getting sentences from the GT. Only using a few to create a list right now. \n",
    "sentences = []\n",
    "with open('vtt_gt_participants.txt','r+') as infile:\n",
    "    lines = infile.readlines()\n",
    "    for i in [0,5,10,15,20]:\n",
    "        line = lines[i]\n",
    "        tokens = line.split()\n",
    "        sen = ' '.join(tokens[1:])\n",
    "        sentences.append(sen)\n",
    "        print(sen)"
   ]
  },
  {
   "cell_type": "code",
   "execution_count": 62,
   "metadata": {},
   "outputs": [
    {
     "name": "stdout",
     "output_type": "stream",
     "text": [
      "1: buildings for carrying on industrial labor\n",
      "2: (botany) a living organism lacking the power of locomotion\n",
      "3: an actor situated in the audience whose acting is rehearsed but seems spontaneous to the audience\n",
      "4: something planted secretly for discovery by another\n",
      "5: put or set (seeds, seedlings, or plants) into the ground\n",
      "6: fix or set securely or deeply\n",
      "7: set up or lay the groundwork for\n",
      "8: place into a river\n",
      "9: place something or someone in a certain position in order to secretly observe or deceive\n",
      "10: put firmly in the mind\n",
      "Enter the number for the correct definition in this context: 2\n",
      "\n",
      "Synonyms:\n",
      "plant\n",
      "flora\n",
      "plant_life\n",
      "\n",
      "Root word: organism\n",
      "\n",
      "Plausible Values:\n",
      "aerobe\n",
      "amphidiploid\n",
      "anaerobe\n",
      "animal\n",
      "animalcule\n",
      "atavist\n",
      "benthos\n",
      "carrier\n",
      "clone\n",
      "commensal\n",
      "conspecific\n",
      "denizen\n",
      "diploid\n",
      "dwarf\n",
      "eukaryote\n",
      "fungus\n",
      "haploid\n",
      "heteroploid\n",
      "heterotroph\n",
      "host\n",
      "hybrid\n",
      "individual\n",
      "katharobe\n",
      "mascot\n",
      "microorganism\n",
      "mutant\n",
      "myrmecophile\n",
      "native\n",
      "nekton\n",
      "nonvascular_organism\n",
      "parasite\n",
      "parent\n",
      "person\n",
      "plankton\n",
      "polymorph\n",
      "polyploid\n",
      "postdiluvian\n",
      "prokaryote\n",
      "recombinant\n",
      "relative\n",
      "relict\n",
      "saprobe\n",
      "saprophyte\n",
      "sitter\n",
      "stander\n",
      "utterer\n",
      "zooid\n"
     ]
    }
   ],
   "source": [
    "#Looking at an example word\n",
    "key_word = 'plants'\n",
    "syn = wn.synsets(key_word)\n",
    "# print(syn)\n",
    "for index,word in enumerate(syn):\n",
    "#     if word.pos()=='n':\n",
    "#     print(word.lemmas())\n",
    "    print(f\"{index+1}: {word.definition()}\")\n",
    "val = int(input(\"Enter the number for the correct definition in this context: \"))\n",
    "val-=1\n",
    "key_word_new = syn[val].lemmas()[0].name()\n",
    "print(\"\\nSynonyms:\")\n",
    "for lems in syn[val].lemmas():\n",
    "    print(lems.name())\n",
    "print()\n",
    "hyper = syn[val].hypernyms()[0]\n",
    "print(f'Root word: {hyper.lemmas()[0].name()}')\n",
    "print()\n",
    "\n",
    "# print(syn[val].hyponyms())\n",
    "\n",
    "hypos = hyper.hyponyms()\n",
    "print(\"Plausible Values:\")\n",
    "for hypo in hypos:\n",
    "    opt = hypo.lemmas()[0].name()\n",
    "    if opt!=key_word_new:\n",
    "        print(hypo.lemmas()[0].name())\n",
    "    "
   ]
  },
  {
   "cell_type": "code",
   "execution_count": null,
   "metadata": {},
   "outputs": [],
   "source": []
  }
 ],
 "metadata": {
  "kernelspec": {
   "display_name": "Python 3",
   "language": "python",
   "name": "python3"
  },
  "language_info": {
   "codemirror_mode": {
    "name": "ipython",
    "version": 3
   },
   "file_extension": ".py",
   "mimetype": "text/x-python",
   "name": "python",
   "nbconvert_exporter": "python",
   "pygments_lexer": "ipython3",
   "version": "3.7.4"
  }
 },
 "nbformat": 4,
 "nbformat_minor": 2
}
